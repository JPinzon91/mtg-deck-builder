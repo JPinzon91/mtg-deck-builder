{
  "nbformat": 4,
  "nbformat_minor": 0,
  "metadata": {
    "colab": {
      "provenance": [],
      "authorship_tag": "ABX9TyNtrykSRntLbDRyRrE9Rmjj",
      "include_colab_link": true
    },
    "kernelspec": {
      "name": "python3",
      "display_name": "Python 3"
    },
    "language_info": {
      "name": "python"
    }
  },
  "cells": [
    {
      "cell_type": "markdown",
      "metadata": {
        "id": "view-in-github",
        "colab_type": "text"
      },
      "source": [
        "<a href=\"https://colab.research.google.com/github/JPinzon91/mtg-deck-builder/blob/main/MTG_Test.ipynb\" target=\"_parent\"><img src=\"https://colab.research.google.com/assets/colab-badge.svg\" alt=\"Open In Colab\"/></a>"
      ]
    },
    {
      "cell_type": "code",
      "execution_count": null,
      "metadata": {
        "colab": {
          "base_uri": "https://localhost:8080/"
        },
        "id": "LbLE493vNJNg",
        "outputId": "488fe07b-4346-4def-d881-f8bd5d6179ad"
      },
      "outputs": [
        {
          "output_type": "stream",
          "name": "stdout",
          "text": [
            "Collecting mtgsdk\n",
            "  Downloading mtgsdk-1.3.1.tar.gz (6.1 kB)\n",
            "  Preparing metadata (setup.py) ... \u001b[?25l\u001b[?25hdone\n",
            "Building wheels for collected packages: mtgsdk\n",
            "  Building wheel for mtgsdk (setup.py) ... \u001b[?25l\u001b[?25hdone\n",
            "  Created wheel for mtgsdk: filename=mtgsdk-1.3.1-py3-none-any.whl size=13678 sha256=550c82c8ea2cb5da64dbc7213c0c708207a9e438b7e5c4bc6d82869b92fca813\n",
            "  Stored in directory: /root/.cache/pip/wheels/f0/8c/21/fe83e83fb8b39de351fbadb81037e87cbd17819d252490a1e5\n",
            "Successfully built mtgsdk\n",
            "Installing collected packages: mtgsdk\n",
            "Successfully installed mtgsdk-1.3.1\n"
          ]
        }
      ],
      "source": [
        "pip install mtgsdk"
      ]
    },
    {
      "cell_type": "code",
      "source": [
        "from mtgsdk import Card\n",
        "from mtgsdk import Set\n",
        "import json"
      ],
      "metadata": {
        "id": "1zO0UjPNNYLW"
      },
      "execution_count": null,
      "outputs": []
    },
    {
      "cell_type": "code",
      "source": [
        "sets = Set.where(type='expansion', name='Outlaws').all()\n",
        "len(sets)\n"
      ],
      "metadata": {
        "id": "p16kF7fHSJuQ",
        "colab": {
          "base_uri": "https://localhost:8080/"
        },
        "outputId": "b68d8ae5-bc40-4027-ea8c-19f7fa59378a"
      },
      "execution_count": null,
      "outputs": [
        {
          "output_type": "execute_result",
          "data": {
            "text/plain": [
              "1"
            ]
          },
          "metadata": {},
          "execution_count": 35
        }
      ]
    },
    {
      "cell_type": "code",
      "source": [
        "for i in sets:\n",
        "  print(i.name)\n",
        "  print(i.code)"
      ],
      "metadata": {
        "colab": {
          "base_uri": "https://localhost:8080/"
        },
        "id": "k1ofL-7dYpCz",
        "outputId": "4d61ed83-34a8-45a3-fa56-c23a9029ac86"
      },
      "execution_count": null,
      "outputs": [
        {
          "output_type": "stream",
          "name": "stdout",
          "text": [
            "Outlaws of Thunder Junction\n",
            "OTJ\n"
          ]
        }
      ]
    },
    {
      "cell_type": "code",
      "source": [
        "cards_outlaws= Card.where(set='OTJ', name='marchesa').all()\n",
        "len(cards_outlaws)"
      ],
      "metadata": {
        "colab": {
          "base_uri": "https://localhost:8080/"
        },
        "id": "REeNDsanSQjD",
        "outputId": "8c688ef1-4d82-474a-fb12-f823e27c6198"
      },
      "execution_count": null,
      "outputs": [
        {
          "output_type": "execute_result",
          "data": {
            "text/plain": [
              "2"
            ]
          },
          "metadata": {},
          "execution_count": 40
        }
      ]
    },
    {
      "cell_type": "code",
      "source": [
        "for i in cards_outlaws:\n",
        "\n",
        "  print(i.image_url)\n",
        "  print(i.multiverse_id)"
      ],
      "metadata": {
        "colab": {
          "base_uri": "https://localhost:8080/"
        },
        "id": "fzLjnV6EbjSm",
        "outputId": "8bd04cdd-9ebf-4e09-e902-55e87320fbd6"
      },
      "execution_count": null,
      "outputs": [
        {
          "output_type": "stream",
          "name": "stdout",
          "text": [
            "http://gatherer.wizards.com/Handlers/Image.ashx?multiverseid=655161&type=card\n",
            "655161\n",
            "http://gatherer.wizards.com/Handlers/Image.ashx?multiverseid=657384&type=card\n",
            "657384\n"
          ]
        }
      ]
    },
    {
      "cell_type": "code",
      "source": [
        "import requests\n",
        "\n",
        "r_test = requests.get('https://api.magicthegathering.io/v1/cards?name=marchesa&set=OTJ').json()"
      ],
      "metadata": {
        "id": "3WSJAspBca_W"
      },
      "execution_count": null,
      "outputs": []
    },
    {
      "cell_type": "code",
      "source": [
        "print(r_test)"
      ],
      "metadata": {
        "colab": {
          "base_uri": "https://localhost:8080/"
        },
        "id": "55CrxBfoc2LC",
        "outputId": "5ea4df77-dc79-433e-c498-9abee224f775"
      },
      "execution_count": null,
      "outputs": [
        {
          "output_type": "stream",
          "name": "stdout",
          "text": [
            "{'cards': [{'name': 'Marchesa, Dealer of Death', 'manaCost': '{U}{B}{R}', 'cmc': 3.0, 'colors': ['B', 'R', 'U'], 'colorIdentity': ['B', 'R', 'U'], 'type': 'Legendary Creature — Human Rogue', 'supertypes': ['Legendary'], 'types': ['Creature'], 'subtypes': ['Human', 'Rogue'], 'rarity': 'Rare', 'set': 'OTJ', 'setName': 'Outlaws of Thunder Junction', 'text': 'Whenever you commit a crime, you may pay {1}. If you do, look at the top two cards of your library. Put one of them into your hand and the other into your graveyard. (Targeting opponents, anything they control, and/or cards in their graveyards is a crime.)', 'flavor': '\"You should have folded when you had the chance.\"', 'artist': 'Ryan Pancoast', 'number': '220', 'power': '3', 'toughness': '4', 'layout': 'normal', 'multiverseid': '655161', 'imageUrl': 'http://gatherer.wizards.com/Handlers/Image.ashx?multiverseid=655161&type=card', 'variations': ['6453614a-d397-52d4-8f15-c62c7d7cb4cc'], 'rulings': [{'date': '2024-04-12', 'text': 'A player can commit only one crime per spell or ability they control. Targeting multiple opponents, permanents, spells, abilities, and/or cards with the same spell or ability doesn’t constitute committing multiple crimes.'}, {'date': '2024-04-12', 'text': 'A player commits a crime as they cast a spell, activate an ability, or put a triggered ability on the stack that targets at least one opponent, at least one permanent, spell, or ability an opponent controls, and/or at least one card in an opponent’s graveyard.'}, {'date': '2024-04-12', 'text': 'Changing the target or targets of a spell or ability won’t affect whether or not the controller of that spell or ability has committed a crime. Only the initial targets chosen for that spell or ability are used to determine whether or not its controller committed a crime.'}, {'date': '2024-04-12', 'text': 'For example, an ability that triggers when you cast a spell that targets an opponent will trigger at the same time as an ability that triggers whenever you commit a crime. Those abilities can be put on the stack in either order (if you control them both), and they’ll both resolve before the spell that caused them to trigger.'}, {'date': '2024-04-12', 'text': 'If there’s only one card in your library as Marchesa’s triggered ability resolves, you’ll put it into your hand.'}, {'date': '2024-04-12', 'text': 'The spell or ability that constituted a crime doesn’t have to have resolved yet or at all. As soon as you’re finished casting the spell, activating the ability, or putting the triggered ability on the stack, you’ve committed a crime.'}], 'foreignNames': [{'name': 'Marchesa, Croupière des Todes', 'text': 'Immer wenn du ein Verbrechen begehst, kannst du {1} bezahlen. Falls du dies tust, schaue dir die obersten zwei Karten deiner Bibliothek an. Nimm eine davon auf deine Hand und lege die andere auf deinen Friedhof. (Es ist ein Verbrechen, einen Gegner, Karten in seinem Friedhof oder etwas unter seiner Kontrolle als Ziel zu bestimmen.)', 'type': 'Legendäre Kreatur — Mensch, Räuber', 'flavor': '„Du hättest aussteigen sollen, als du noch konntest.\"', 'imageUrl': 'http://gatherer.wizards.com/Handlers/Image.ashx?multiverseid=655425&type=card', 'language': 'German', 'identifiers': {'scryfallId': 'ba143657-f150-4c28-a2c4-8d72d05a765e', 'multiverseId': 655425}, 'multiverseid': 655425}, {'name': 'Marquesa, comerciante mortal', 'text': 'Siempre que cometas un crimen, puedes pagar {1}. Si lo haces, mira las dos primeras cartas de tu biblioteca. Pon una de ellas en tu mano y la otra en tu cementerio. (Hacer objetivo a oponentes, a cualquier objeto que controlan y/o a cartas en sus cementerios es un crimen.)', 'type': 'Criatura legendaria — Bribón humano', 'flavor': '\"Debiste rendirte cuando tuviste ocasión\".', 'imageUrl': 'http://gatherer.wizards.com/Handlers/Image.ashx?multiverseid=655689&type=card', 'language': 'Spanish', 'identifiers': {'scryfallId': 'b4031b65-94f2-4fbb-8cf5-10b56f74a0b8', 'multiverseId': 655689}, 'multiverseid': 655689}, {'name': 'Marchesa, pourvoyeuse de mort', 'text': \"À chaque fois que vous commettez un crime, vous pouvez payer {1}. Si vous faites ainsi, regardez les deux cartes du dessus de votre bibliothèque. Mettez l'une d'entre elles dans votre main et l'autre dans votre cimetière. (Cibler des adversaires, tout ce qu'ils contrôlent et/ou des cartes de leur cimetière est un crime.)\", 'type': 'Créature légendaire — humain et gredin', 'flavor': \"« Tu aurais dû te coucher quand tu en as eu l'occasion. »\", 'imageUrl': 'http://gatherer.wizards.com/Handlers/Image.ashx?multiverseid=655953&type=card', 'language': 'French', 'identifiers': {'scryfallId': '717b7920-8f28-4915-a8ae-c0c619ca6975', 'multiverseId': 655953}, 'multiverseid': 655953}, {'name': 'Marchesa, Mercante di Morte', 'text': \"Ogniqualvolta commetti un crimine, puoi pagare {1}. Se lo fai, guarda le prime due carte del tuo grimorio. Aggiungine una alla tua mano e metti l'altra nel tuo cimitero. (Bersagliare gli avversari, qualsiasi cosa controllino e/o le carte nei loro cimiteri è un crimine.)\", 'type': 'Creatura Leggendaria — Farabutto Umano', 'flavor': '\"Avresti dovuto arrenderti quando ne avevi la possibilità.\"', 'imageUrl': 'http://gatherer.wizards.com/Handlers/Image.ashx?multiverseid=656217&type=card', 'language': 'Italian', 'identifiers': {'scryfallId': 'd0139f59-2b1d-4bb2-b58e-36ebafdeb042', 'multiverseId': 656217}, 'multiverseid': 656217}, {'name': '死のディーラー、マルチェッサ', 'text': 'あなたが悪事を働くたび、{1}を支払ってもよい。そうしたなら、あなたのライブラリーの一番上にあるカード２枚を見る。そのうち１枚をあなたの手札に、残りをあなたの墓地に置く。（悪事を働くとは、対戦相手や対戦相手がコントロールしているものや対戦相手の墓地にあるカードを対象とすることである。）', 'type': '伝説のクリーチャー — 人間・ならず者', 'flavor': '「チャンスがあった時に降りるべきだったのよ。」', 'imageUrl': 'http://gatherer.wizards.com/Handlers/Image.ashx?multiverseid=656481&type=card', 'language': 'Japanese', 'identifiers': {'scryfallId': '9ac0e8d5-7991-487d-aa71-e981a255cc83', 'multiverseId': 656481}, 'multiverseid': 656481}, {'name': 'Marchesa, Mercadora da Morte', 'text': 'Toda vez que você comete um crime, você pode pagar {1}. Se fizer isso, olhe os dois cards do topo de seu grimório. Coloque um deles na sua mão e o outro em seu cemitério. (Escolher como alvo oponentes, qualquer coisa que eles controlem e/ou cards no cemitério deles é um crime.)', 'type': 'Criatura Lendária — Humano Ladino', 'flavor': '\"Você deveria ter desistido quando teve a chance.\"', 'imageUrl': 'http://gatherer.wizards.com/Handlers/Image.ashx?multiverseid=656745&type=card', 'language': 'Portuguese (Brazil)', 'identifiers': {'scryfallId': '082c3539-825a-413e-af3e-80aabd63a560', 'multiverseId': 656745}, 'multiverseid': 656745}, {'name': '送终客玛切莎', 'text': '每当你犯下罪行时，你可以支付{1}。若你如此作，则检视你牌库顶的两张牌。将其中一张置于你手上，另一张则置入你的坟墓场。（将对手，任何由其操控的东西和／或其坟墓场中的牌指定为目标，即属罪行。）', 'type': '传奇生物 — 人类／浪客', 'flavor': '「你在原本还有机会时就该收手了。」', 'imageUrl': 'http://gatherer.wizards.com/Handlers/Image.ashx?multiverseid=657009&type=card', 'language': 'Chinese Simplified', 'identifiers': {'scryfallId': 'c5c2a5c1-0d92-4109-a060-14cf8705bad1', 'multiverseId': 657009}, 'multiverseid': 657009}], 'printings': ['OTJ', 'POTJ'], 'originalText': 'Whenever you commit a crime, you may pay {1}. If you do, look at the top two cards of your library. Put one of them into your hand and the other into your graveyard. (Targeting opponents, anything they control, and/or cards in their graveyards is a crime.)', 'originalType': 'Legendary Creature — Human Rogue', 'legalities': [{'format': 'Alchemy', 'legality': 'Legal'}, {'format': 'Brawl', 'legality': 'Legal'}, {'format': 'Commander', 'legality': 'Legal'}, {'format': 'Duel', 'legality': 'Legal'}, {'format': 'Explorer', 'legality': 'Legal'}, {'format': 'Future', 'legality': 'Legal'}, {'format': 'Gladiator', 'legality': 'Legal'}, {'format': 'Historic', 'legality': 'Legal'}, {'format': 'Legacy', 'legality': 'Legal'}, {'format': 'Modern', 'legality': 'Legal'}, {'format': 'Oathbreaker', 'legality': 'Legal'}, {'format': 'Pioneer', 'legality': 'Legal'}, {'format': 'Standard', 'legality': 'Legal'}, {'format': 'Standardbrawl', 'legality': 'Legal'}, {'format': 'Timeless', 'legality': 'Legal'}, {'format': 'Vintage', 'legality': 'Legal'}], 'id': 'd3dadd18-1576-5f7f-8b1e-d263e56b1f6b'}, {'name': 'Marchesa, Dealer of Death', 'manaCost': '{U}{B}{R}', 'cmc': 3.0, 'colors': ['B', 'R', 'U'], 'colorIdentity': ['B', 'R', 'U'], 'type': 'Legendary Creature — Human Rogue', 'supertypes': ['Legendary'], 'types': ['Creature'], 'subtypes': ['Human', 'Rogue'], 'rarity': 'Rare', 'set': 'OTJ', 'setName': 'Outlaws of Thunder Junction', 'text': 'Whenever you commit a crime, you may pay {1}. If you do, look at the top two cards of your library. Put one of them into your hand and the other into your graveyard. (Targeting opponents, anything they control, and/or cards in their graveyards is a crime.)', 'flavor': '\"You should have folded when you had the chance.\"', 'artist': 'Ryan Pancoast', 'number': '357', 'power': '3', 'toughness': '4', 'layout': 'normal', 'multiverseid': '657384', 'imageUrl': 'http://gatherer.wizards.com/Handlers/Image.ashx?multiverseid=657384&type=card', 'variations': ['d3dadd18-1576-5f7f-8b1e-d263e56b1f6b'], 'rulings': [{'date': '2024-04-12', 'text': 'A player can commit only one crime per spell or ability they control. Targeting multiple opponents, permanents, spells, abilities, and/or cards with the same spell or ability doesn’t constitute committing multiple crimes.'}, {'date': '2024-04-12', 'text': 'A player commits a crime as they cast a spell, activate an ability, or put a triggered ability on the stack that targets at least one opponent, at least one permanent, spell, or ability an opponent controls, and/or at least one card in an opponent’s graveyard.'}, {'date': '2024-04-12', 'text': 'Changing the target or targets of a spell or ability won’t affect whether or not the controller of that spell or ability has committed a crime. Only the initial targets chosen for that spell or ability are used to determine whether or not its controller committed a crime.'}, {'date': '2024-04-12', 'text': 'For example, an ability that triggers when you cast a spell that targets an opponent will trigger at the same time as an ability that triggers whenever you commit a crime. Those abilities can be put on the stack in either order (if you control them both), and they’ll both resolve before the spell that caused them to trigger.'}, {'date': '2024-04-12', 'text': 'If there’s only one card in your library as Marchesa’s triggered ability resolves, you’ll put it into your hand.'}, {'date': '2024-04-12', 'text': 'The spell or ability that constituted a crime doesn’t have to have resolved yet or at all. As soon as you’re finished casting the spell, activating the ability, or putting the triggered ability on the stack, you’ve committed a crime.'}], 'foreignNames': [{'name': 'Marchesa, Croupière des Todes', 'text': 'Immer wenn du ein Verbrechen begehst, kannst du {1} bezahlen. Falls du dies tust, schaue dir die obersten zwei Karten deiner Bibliothek an. Nimm eine davon auf deine Hand und lege die andere auf deinen Friedhof.', 'type': 'Legendäre Kreatur — Mensch, Räuber', 'flavor': '„Du hättest aussteigen sollen, als du noch konntest.\"', 'imageUrl': 'http://gatherer.wizards.com/Handlers/Image.ashx?multiverseid=657445&type=card', 'language': 'German', 'identifiers': {'scryfallId': 'b03b1850-75e1-4a72-a9cd-a05663306554', 'multiverseId': 657445}, 'multiverseid': 657445}, {'name': 'Marchesa, pourvoyeuse de mort', 'text': \"À chaque fois que vous commettez un crime, vous pouvez payer {1}. Si vous faites ainsi, regardez les deux cartes du dessus de votre bibliothèque. Mettez l'une d'elles dans votre main et l'autre dans votre cimetière.\", 'type': 'Créature légendaire — humain et gredin', 'flavor': \"« Tu aurais dû te coucher quand tu en as eu l'occasion. »\", 'imageUrl': 'http://gatherer.wizards.com/Handlers/Image.ashx?multiverseid=657506&type=card', 'language': 'French', 'identifiers': {'scryfallId': 'cfa0da31-2571-4c48-abca-1a7f158d7a86', 'multiverseId': 657506}, 'multiverseid': 657506}, {'name': '死のディーラー、マルチェッサ', 'text': 'あなたが悪事を働くたび、{1}を支払ってもよい。そうしたなら、あなたのライブラリーの一番上にあるカード２枚を見る。そのうち１枚をあなたの手札に、残りをあなたの墓地に置く。', 'type': '伝説のクリーチャー — 人間・ならず者', 'flavor': '「チャンスがあった時に降りるべきだったのよ。」', 'imageUrl': 'http://gatherer.wizards.com/Handlers/Image.ashx?multiverseid=657567&type=card', 'language': 'Japanese', 'identifiers': {'scryfallId': '3254bccf-6a83-4581-9f56-603402d89577', 'multiverseId': 657567}, 'multiverseid': 657567}, {'name': '送终客玛切莎', 'text': '每当你犯下罪行时，你可以支付{1}。若你如此作，则检视你牌库顶的两张牌。将其中一张置于你手上，另一张则置入你的坟墓场。', 'type': '传奇生物 — 人类／浪客', 'flavor': '「你在原本还有机会时就该收手了。」', 'imageUrl': 'http://gatherer.wizards.com/Handlers/Image.ashx?multiverseid=657628&type=card', 'language': 'Chinese Simplified', 'identifiers': {'scryfallId': 'cc4a1dd7-a8b0-4e6d-9c95-7b38ccf4bca7', 'multiverseId': 657628}, 'multiverseid': 657628}], 'printings': ['OTJ', 'POTJ'], 'originalText': 'Whenever you commit a crime, you may pay {1}. If you do, look at the top two cards of your library. Put one of them into your hand and the other into your graveyard.', 'originalType': 'Legendary Creature — Human Rogue', 'legalities': [{'format': 'Alchemy', 'legality': 'Legal'}, {'format': 'Brawl', 'legality': 'Legal'}, {'format': 'Commander', 'legality': 'Legal'}, {'format': 'Duel', 'legality': 'Legal'}, {'format': 'Explorer', 'legality': 'Legal'}, {'format': 'Future', 'legality': 'Legal'}, {'format': 'Gladiator', 'legality': 'Legal'}, {'format': 'Historic', 'legality': 'Legal'}, {'format': 'Legacy', 'legality': 'Legal'}, {'format': 'Modern', 'legality': 'Legal'}, {'format': 'Oathbreaker', 'legality': 'Legal'}, {'format': 'Pioneer', 'legality': 'Legal'}, {'format': 'Standard', 'legality': 'Legal'}, {'format': 'Standardbrawl', 'legality': 'Legal'}, {'format': 'Timeless', 'legality': 'Legal'}, {'format': 'Vintage', 'legality': 'Legal'}], 'id': '6453614a-d397-52d4-8f15-c62c7d7cb4cc'}]}\n"
          ]
        }
      ]
    }
  ]
}
